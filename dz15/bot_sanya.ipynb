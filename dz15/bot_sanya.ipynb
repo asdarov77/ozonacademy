{
  "nbformat": 4,
  "nbformat_minor": 0,
  "metadata": {
    "colab": {
      "name": "Untitled0.ipynb",
      "provenance": []
    },
    "kernelspec": {
      "name": "python3",
      "display_name": "Python 3"
    }
  },
  "cells": [
    {
      "cell_type": "code",
      "metadata": {
        "id": "aACB-acwvYlS",
        "colab_type": "code",
        "colab": {
          "base_uri": "https://localhost:8080/",
          "height": 136
        },
        "outputId": "8303c68f-9a03-427c-ea58-5ca32ca51379"
      },
      "source": [
        "pip install pyTelegramBotApi\n"
      ],
      "execution_count": 46,
      "outputs": [
        {
          "output_type": "stream",
          "text": [
            "Requirement already satisfied: pyTelegramBotApi in /usr/local/lib/python3.6/dist-packages (3.7.1)\n",
            "Requirement already satisfied: six in /usr/local/lib/python3.6/dist-packages (from pyTelegramBotApi) (1.12.0)\n",
            "Requirement already satisfied: requests in /usr/local/lib/python3.6/dist-packages (from pyTelegramBotApi) (2.23.0)\n",
            "Requirement already satisfied: idna<3,>=2.5 in /usr/local/lib/python3.6/dist-packages (from requests->pyTelegramBotApi) (2.9)\n",
            "Requirement already satisfied: certifi>=2017.4.17 in /usr/local/lib/python3.6/dist-packages (from requests->pyTelegramBotApi) (2020.4.5.1)\n",
            "Requirement already satisfied: urllib3!=1.25.0,!=1.25.1,<1.26,>=1.21.1 in /usr/local/lib/python3.6/dist-packages (from requests->pyTelegramBotApi) (1.24.3)\n",
            "Requirement already satisfied: chardet<4,>=3.0.2 in /usr/local/lib/python3.6/dist-packages (from requests->pyTelegramBotApi) (3.0.4)\n"
          ],
          "name": "stdout"
        }
      ]
    },
    {
      "cell_type": "code",
      "metadata": {
        "id": "KkcVYsNT7btB",
        "colab_type": "code",
        "colab": {
          "base_uri": "https://localhost:8080/",
          "height": 326
        },
        "outputId": "606d7cb7-aa0c-4a4e-d05b-b195b9b89269"
      },
      "source": [
        "import telebot\n",
        "import random\n",
        "token='1030911728:AAG9f8OdE8ysuz8iamm8rdbfG62cuos28Es'\n",
        "bot=telebot.TeleBot(token)\n",
        "jokes=['Саша,не тупи','Саша ботан','Саша Грей?','Са-са,Ша-ша,Ша-са']\n",
        "@bot.message_handler(content_types=['text'])\n",
        "def privet(message):\n",
        "  if message.text == 'Привет':\n",
        "      bot.send_message(message.from_user.id, \"Как тебя зовут?\");\n",
        "      bot.register_next_step_handler(message, find_alexandr);\n",
        "def find_alexandr(message):\n",
        "   if \"Саша\" in message.text: \n",
        "      message.text=random.choice(jokes)\n",
        "      bot.send_message(message.chat.id, message.text);\n",
        "      bot.register_next_step_handler(message, repeat_all_mesages);\n",
        "   else:\n",
        "      message.text='Жаль что ты не Саша.'\n",
        "      bot.send_message(message.chat.id, message.text);\n",
        "      bot.register_next_step_handler(message, repeat_all_messages);\n",
        "def repeat_all_mesages(message):\n",
        "    sent=bot.send_message(message.chat.id,message.text);\n",
        "bot.polling()\n"
      ],
      "execution_count": 47,
      "outputs": [
        {
          "output_type": "stream",
          "text": [
            "2020-06-05 15:31:34,396 (util.py:68 PollingThread) ERROR - TeleBot: \"ApiException occurred, args=('A request to the Telegram API was unsuccessful. The server returned HTTP 409 Conflict. Response body:\\n[b\\'{\"ok\":false,\"error_code\":409,\"description\":\"Conflict: terminated by other getUpdates request; make sure that only one bot instance is running\"}\\']',)\n",
            "Traceback (most recent call last):\n",
            "  File \"/usr/local/lib/python3.6/dist-packages/telebot/util.py\", line 62, in run\n",
            "    task(*args, **kwargs)\n",
            "  File \"/usr/local/lib/python3.6/dist-packages/telebot/__init__.py\", line 281, in __retrieve_updates\n",
            "    updates = self.get_updates(offset=(self.last_update_id + 1), timeout=timeout)\n",
            "  File \"/usr/local/lib/python3.6/dist-packages/telebot/__init__.py\", line 251, in get_updates\n",
            "    json_updates = apihelper.get_updates(self.token, offset, limit, timeout, allowed_updates)\n",
            "  File \"/usr/local/lib/python3.6/dist-packages/telebot/apihelper.py\", line 199, in get_updates\n",
            "    return _make_request(token, method_url, params=payload)\n",
            "  File \"/usr/local/lib/python3.6/dist-packages/telebot/apihelper.py\", line 65, in _make_request\n",
            "    return _check_result(method_name, result)['result']\n",
            "  File \"/usr/local/lib/python3.6/dist-packages/telebot/apihelper.py\", line 84, in _check_result\n",
            "    raise ApiException(msg, method_name, result)\n",
            "telebot.apihelper.ApiException: A request to the Telegram API was unsuccessful. The server returned HTTP 409 Conflict. Response body:\n",
            "[b'{\"ok\":false,\"error_code\":409,\"description\":\"Conflict: terminated by other getUpdates request; make sure that only one bot instance is running\"}']\n",
            "\"\n"
          ],
          "name": "stderr"
        }
      ]
    },
    {
      "cell_type": "code",
      "metadata": {
        "id": "OhrzsJwCHbf3",
        "colab_type": "code",
        "colab": {}
      },
      "source": [
        ""
      ],
      "execution_count": 0,
      "outputs": []
    },
    {
      "cell_type": "code",
      "metadata": {
        "id": "cEAClOo_HlxA",
        "colab_type": "code",
        "colab": {}
      },
      "source": [
        ""
      ],
      "execution_count": 0,
      "outputs": []
    },
    {
      "cell_type": "code",
      "metadata": {
        "id": "V3t0UKZ5HmKL",
        "colab_type": "code",
        "colab": {}
      },
      "source": [
        ""
      ],
      "execution_count": 0,
      "outputs": []
    }
  ]
}