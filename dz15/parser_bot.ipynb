{
  "nbformat": 4,
  "nbformat_minor": 0,
  "metadata": {
    "colab": {
      "name": "Untitled2.ipynb",
      "provenance": []
    },
    "kernelspec": {
      "name": "python3",
      "display_name": "Python 3"
    }
  },
  "cells": [
    {
      "cell_type": "code",
      "metadata": {
        "id": "edajrEypcvb4",
        "colab_type": "code",
        "outputId": "586f84f4-52e2-476e-d530-2be9d2cf96de",
        "colab": {
          "base_uri": "https://localhost:8080/",
          "height": 34
        }
      },
      "source": [
        "pip install beautifulsoup4"
      ],
      "execution_count": 5,
      "outputs": [
        {
          "output_type": "stream",
          "text": [
            "Requirement already satisfied: beautifulsoup4 in /usr/local/lib/python3.6/dist-packages (4.6.3)\n"
          ],
          "name": "stdout"
        }
      ]
    },
    {
      "cell_type": "code",
      "metadata": {
        "id": "Yxmehpcxf1oE",
        "colab_type": "code",
        "outputId": "b95c71cf-fc38-4926-b1a2-b334195bca66",
        "colab": {
          "base_uri": "https://localhost:8080/",
          "height": 187
        }
      },
      "source": [
        "pip install user_agent"
      ],
      "execution_count": 4,
      "outputs": [
        {
          "output_type": "stream",
          "text": [
            "Collecting user_agent\n",
            "  Downloading https://files.pythonhosted.org/packages/c3/ca/15546284f62edfec7666ecb6403a6e77f5db850def37cd36f140d99cce02/user_agent-0.1.9.tar.gz\n",
            "Requirement already satisfied: six in /usr/local/lib/python3.6/dist-packages (from user_agent) (1.12.0)\n",
            "Building wheels for collected packages: user-agent\n",
            "  Building wheel for user-agent (setup.py) ... \u001b[?25l\u001b[?25hdone\n",
            "  Created wheel for user-agent: filename=user_agent-0.1.9-cp36-none-any.whl size=18807 sha256=ea057a5c87c22417ec4a4c149725872754cbc0daa40d62a556f7f88c3d0b9bb3\n",
            "  Stored in directory: /root/.cache/pip/wheels/92/80/3f/5d79277825042f2d4d447f594e3fc046f1e506f2b481d364b2\n",
            "Successfully built user-agent\n",
            "Installing collected packages: user-agent\n",
            "Successfully installed user-agent-0.1.9\n"
          ],
          "name": "stdout"
        }
      ]
    },
    {
      "cell_type": "code",
      "metadata": {
        "id": "YHNAdXIJc0b5",
        "colab_type": "code",
        "outputId": "b48ea85a-889e-408e-a51d-a214d974120b",
        "colab": {
          "base_uri": "https://localhost:8080/",
          "height": 136
        }
      },
      "source": [
        "pip install pyTelegramBotApi"
      ],
      "execution_count": 9,
      "outputs": [
        {
          "output_type": "stream",
          "text": [
            "Requirement already satisfied: pyTelegramBotApi in /usr/local/lib/python3.6/dist-packages (3.7.1)\n",
            "Requirement already satisfied: six in /usr/local/lib/python3.6/dist-packages (from pyTelegramBotApi) (1.12.0)\n",
            "Requirement already satisfied: requests in /usr/local/lib/python3.6/dist-packages (from pyTelegramBotApi) (2.23.0)\n",
            "Requirement already satisfied: urllib3!=1.25.0,!=1.25.1,<1.26,>=1.21.1 in /usr/local/lib/python3.6/dist-packages (from requests->pyTelegramBotApi) (1.24.3)\n",
            "Requirement already satisfied: chardet<4,>=3.0.2 in /usr/local/lib/python3.6/dist-packages (from requests->pyTelegramBotApi) (3.0.4)\n",
            "Requirement already satisfied: certifi>=2017.4.17 in /usr/local/lib/python3.6/dist-packages (from requests->pyTelegramBotApi) (2020.4.5.1)\n",
            "Requirement already satisfied: idna<3,>=2.5 in /usr/local/lib/python3.6/dist-packages (from requests->pyTelegramBotApi) (2.9)\n"
          ],
          "name": "stdout"
        }
      ]
    },
    {
      "cell_type": "code",
      "metadata": {
        "id": "danrtN5Bcxk3",
        "colab_type": "code",
        "outputId": "0a18dc23-5f63-4950-8a81-ed11e9a98024",
        "colab": {
          "base_uri": "https://localhost:8080/",
          "height": 326
        }
      },
      "source": [
        "import telebot\n",
        "import random\n",
        "import requests\n",
        "from bs4 import BeautifulSoup\n",
        "import re\n",
        "from user_agent import generate_user_agent\n",
        "\n",
        "token='1030911728:AAG9f8OdE8ysuz8iamm8rdbfG62cuos28Es'\n",
        "bot=telebot.TeleBot(token)\n",
        "url='';\n",
        "mas=[]\n",
        "@bot.message_handler(content_types=['text'])\n",
        "def start(message):\n",
        "    if message.text == '/start':\n",
        "        bot.send_message(message.from_user.id, \"Привет. Напиши ссылку для парсинга\");\n",
        "        bot.register_next_step_handler(message, get_url); #следующий шаг – функция get_url\n",
        "    else:\n",
        "        bot.send_message(message.from_user.id, 'Напиши /start');\n",
        "\n",
        "def get_url(message):\n",
        "  url = message.text\n",
        "  \n",
        "# generate a user agent\n",
        "  headers = {'User-Agent': generate_user_agent(device_type=\"desktop\", os=('mac', 'linux'))}\n",
        "\n",
        "  page_response = requests.get(url, timeout=5, headers=headers)\n",
        "  soup=BeautifulSoup(page_response.content, 'html.parser')\n",
        "  src=re.compile('^\\/context\\/detail\\/id\\/\\d{2,}\\/$')\n",
        "  for link in soup.find_all('a'):\n",
        "    if link.get('href') and re.search(src,link.get('href')): # Проверка,что строка не NoneType,затем что она входит в нашу маску поиска\n",
        "        mas.append(link.get('href'))\n",
        "    else:\n",
        "        pass\n",
        "    \n",
        "  product1='www.ozon.ru'+random.choice(mas)\n",
        "  product2='www.ozon.ru'+random.choice(mas)\n",
        "  bot.send_message(message.from_user.id, \"Я думаю,тебе нужно вот это\")\n",
        "  bot.send_message(message.from_user.id, product1)\n",
        "  bot.send_message(message.from_user.id, product2)\n",
        "\n",
        "\n",
        "\n",
        "  \n",
        "bot.polling()"
      ],
      "execution_count": 13,
      "outputs": [
        {
          "output_type": "stream",
          "text": [
            "2020-06-09 19:21:01,026 (util.py:68 PollingThread) ERROR - TeleBot: \"ApiException occurred, args=('A request to the Telegram API was unsuccessful. The server returned HTTP 409 Conflict. Response body:\\n[b\\'{\"ok\":false,\"error_code\":409,\"description\":\"Conflict: terminated by other getUpdates request; make sure that only one bot instance is running\"}\\']',)\n",
            "Traceback (most recent call last):\n",
            "  File \"/usr/local/lib/python3.6/dist-packages/telebot/util.py\", line 62, in run\n",
            "    task(*args, **kwargs)\n",
            "  File \"/usr/local/lib/python3.6/dist-packages/telebot/__init__.py\", line 281, in __retrieve_updates\n",
            "    updates = self.get_updates(offset=(self.last_update_id + 1), timeout=timeout)\n",
            "  File \"/usr/local/lib/python3.6/dist-packages/telebot/__init__.py\", line 251, in get_updates\n",
            "    json_updates = apihelper.get_updates(self.token, offset, limit, timeout, allowed_updates)\n",
            "  File \"/usr/local/lib/python3.6/dist-packages/telebot/apihelper.py\", line 199, in get_updates\n",
            "    return _make_request(token, method_url, params=payload)\n",
            "  File \"/usr/local/lib/python3.6/dist-packages/telebot/apihelper.py\", line 65, in _make_request\n",
            "    return _check_result(method_name, result)['result']\n",
            "  File \"/usr/local/lib/python3.6/dist-packages/telebot/apihelper.py\", line 84, in _check_result\n",
            "    raise ApiException(msg, method_name, result)\n",
            "telebot.apihelper.ApiException: A request to the Telegram API was unsuccessful. The server returned HTTP 409 Conflict. Response body:\n",
            "[b'{\"ok\":false,\"error_code\":409,\"description\":\"Conflict: terminated by other getUpdates request; make sure that only one bot instance is running\"}']\n",
            "\"\n"
          ],
          "name": "stderr"
        }
      ]
    }
  ]
}